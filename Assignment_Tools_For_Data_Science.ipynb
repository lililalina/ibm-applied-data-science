{
    "cells": [
        {
            "metadata": {
                "collapsed": true
            },
            "cell_type": "markdown",
            "source": "# My Jupyter Notebook on IBM Watson Studio"
        },
        {
            "metadata": {},
            "cell_type": "markdown",
            "source": "**Lina Purwanti**\n\nData scientist"
        },
        {
            "metadata": {},
            "cell_type": "markdown",
            "source": "*I am interested of working as data scientist because I would like to support health policy in my country using big data* "
        },
        {
            "metadata": {},
            "cell_type": "markdown",
            "source": "### This code is for.."
        },
        {
            "metadata": {},
            "cell_type": "code",
            "source": "def multiply(x,y):\n    return x*y\n\nmultiply(123,2)",
            "execution_count": 6,
            "outputs": [
                {
                    "output_type": "execute_result",
                    "execution_count": 6,
                    "data": {
                        "text/plain": "246"
                    },
                    "metadata": {}
                }
            ]
        },
        {
            "metadata": {},
            "cell_type": "markdown",
            "source": "- hello\n- good morning\n- good afternoon\n- good evening"
        },
        {
            "metadata": {},
            "cell_type": "markdown",
            "source": "| Fruit     | Color         | Taste    |\n|-----------|---------------|----------|\n| Apple     | Red           | Sweet    |\n| Orange    | Yellow-Orange | Sour     |"
        },
        {
            "metadata": {},
            "cell_type": "markdown",
            "source": "[IBM's Homepage](https://www.ibm.com/)"
        },
        {
            "metadata": {},
            "cell_type": "code",
            "source": "",
            "execution_count": null,
            "outputs": []
        }
    ],
    "metadata": {
        "kernelspec": {
            "name": "python3",
            "display_name": "Python 3.9",
            "language": "python"
        },
        "language_info": {
            "name": "python",
            "version": "3.9.12",
            "mimetype": "text/x-python",
            "codemirror_mode": {
                "name": "ipython",
                "version": 3
            },
            "pygments_lexer": "ipython3",
            "nbconvert_exporter": "python",
            "file_extension": ".py"
        }
    },
    "nbformat": 4,
    "nbformat_minor": 1
}